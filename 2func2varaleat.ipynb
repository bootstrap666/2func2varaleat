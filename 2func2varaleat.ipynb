{
  "nbformat": 4,
  "nbformat_minor": 0,
  "metadata": {
    "colab": {
      "name": "2func2varaleat.ipynb",
      "provenance": [],
      "authorship_tag": "ABX9TyOIIhXPBV/H1TKRkKpS1R8l",
      "include_colab_link": true
    },
    "kernelspec": {
      "name": "python3",
      "display_name": "Python 3"
    },
    "language_info": {
      "name": "python"
    }
  },
  "cells": [
    {
      "cell_type": "markdown",
      "metadata": {
        "id": "view-in-github",
        "colab_type": "text"
      },
      "source": [
        "<a href=\"https://colab.research.google.com/github/bootstrap666/2func2varaleat/blob/main/2func2varaleat.ipynb\" target=\"_parent\"><img src=\"https://colab.research.google.com/assets/colab-badge.svg\" alt=\"Open In Colab\"/></a>"
      ]
    },
    {
      "cell_type": "code",
      "metadata": {
        "id": "7l7Kewq7cO9g"
      },
      "source": [
        "import numpy as np\n",
        "import matplotlib.pyplot as plt\n",
        "from scipy.stats import rayleigh"
      ],
      "execution_count": null,
      "outputs": []
    },
    {
      "cell_type": "code",
      "metadata": {
        "id": "5ekdJ2pjgVIl"
      },
      "source": [
        "def rayleigh_pdf(r,sigma): \n",
        "  return r/(sigma**2) * np.exp(-(r/sigma)**2/2)"
      ],
      "execution_count": null,
      "outputs": []
    },
    {
      "cell_type": "code",
      "metadata": {
        "id": "1ZWy4UPscdCM"
      },
      "source": [
        "amostras = 100000\n",
        "sigma = 0.1\n",
        "\n",
        "A = np.random.normal(0,sigma,amostras)\n",
        "B = np.random.normal(0,sigma,amostras)\n",
        "\n",
        "R = np.sqrt(np.power(A,2.0)+np.power(B,2.0))\n",
        "theta = np.arctan2(B,A)"
      ],
      "execution_count": null,
      "outputs": []
    },
    {
      "cell_type": "code",
      "metadata": {
        "colab": {
          "base_uri": "https://localhost:8080/",
          "height": 296
        },
        "id": "vYyoOWkQdFzH",
        "outputId": "092c448c-91c7-4e09-b94b-e184cdd66a48"
      },
      "source": [
        "counts, bins = np.histogram(R,bins=100,density=True)\n",
        "plt.hist(bins[:-1], bins, weights=counts)\n",
        "\n",
        "plt.plot(bins[:-1], rayleigh_pdf(bins[:-1],sigma))\n",
        "plt.xlabel('R')\n",
        "plt.ylabel('f(R)')"
      ],
      "execution_count": null,
      "outputs": [
        {
          "output_type": "execute_result",
          "data": {
            "text/plain": [
              "Text(0, 0.5, 'f(R)')"
            ]
          },
          "metadata": {
            "tags": []
          },
          "execution_count": 51
        },
        {
          "output_type": "display_data",
          "data": {
            "image/png": "[encoded data removed]",
            "text/plain": [
              "<Figure size 432x288 with 1 Axes>"
            ]
          },
          "metadata": {
            "tags": [],
            "needs_background": "light"
          }
        }
      ]
    },
    {
      "cell_type": "code",
      "metadata": {
        "colab": {
          "base_uri": "https://localhost:8080/",
          "height": 296
        },
        "id": "kXI1ips8hWPD",
        "outputId": "e50a677e-612f-4c01-bbeb-fb0e96de41e8"
      },
      "source": [
        "counts, bins = np.histogram(theta,bins=100,density=True)\n",
        "plt.hist(bins[:-1], bins, weights=counts)\n",
        "\n",
        "plt.plot(np.pi*np.array([-1, 1]), 1.0/(2*np.pi)*np.array([1, 1]))\n",
        "plt.xlabel('theta')\n",
        "plt.ylabel('f(theta)')"
      ],
      "execution_count": null,
      "outputs": [
        {
          "output_type": "execute_result",
          "data": {
            "text/plain": [
              "Text(0, 0.5, 'f(theta)')"
            ]
          },
          "metadata": {
            "tags": []
          },
          "execution_count": 52
        },
        {
          "output_type": "display_data",
          "data": {
            "image/png": "[encoded data removed]",
            "text/plain": [
              "<Figure size 432x288 with 1 Axes>"
            ]
          },
          "metadata": {
            "tags": [],
            "needs_background": "light"
          }
        }
      ]
    }
  ]
}